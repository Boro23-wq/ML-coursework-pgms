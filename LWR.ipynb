{
 "cells": [
  {
   "cell_type": "code",
   "execution_count": 11,
   "metadata": {},
   "outputs": [
    {
     "ename": "SyntaxError",
     "evalue": "invalid syntax (<ipython-input-11-cb49c875fd40>, line 11)",
     "output_type": "error",
     "traceback": [
      "\u001b[0;36m  File \u001b[0;32m\"<ipython-input-11-cb49c875fd40>\"\u001b[0;36m, line \u001b[0;32m11\u001b[0m\n\u001b[0;31m    m,n = shape(xmat) weights = mat(eye((m)))\u001b[0m\n\u001b[0m                            ^\u001b[0m\n\u001b[0;31mSyntaxError\u001b[0m\u001b[0;31m:\u001b[0m invalid syntax\n"
     ]
    }
   ],
   "source": [
    "from numpy import *\n",
    "import operator\n",
    "from os import listdir\n",
    "import matplotlib\n",
    "import matplotlib.pyplot as plt \n",
    "import pandas as pd\n",
    "import numpy.linalg\n",
    "from scipy.stats.stats import pearsonr\n",
    "\n",
    "def kernel(point,xmat, k): \n",
    "    m,n = shape(xmat) weights = mat(eye((m))) \n",
    "    for j in range(m):\n",
    "        diff = point - X[j]\n",
    "        weights[j,j] = exp(diff*diff.T/(-2.0*k**2)) \n",
    "        return weights\n",
    "    \n",
    "def localWeight(point,xmat,ymat,k):\n",
    "    wei = kernel(point,xmat,k)\n",
    "    W = (X.T*(wei*X)).I*(X.T*(wei*ymat.T)) \n",
    "    return W\n",
    "\n",
    "def localWeightRegression(xmat,ymat,k): \n",
    "    m,n = shape(xmat)\n",
    "    ypred = zeros(m)\n",
    "    for i in range(m):\n",
    "        ypred[i] = xmat[i]*localWeight(xmat[i],xmat,ymat,k) \n",
    "        return ypred\n",
    "    \n",
    "# load data points\n",
    "data = pd.read_csv('./tips.csv') \n",
    "bill = array(data.total_bill) \n",
    "tip = array(data.tip)\n",
    "\n",
    "#preparing and add 1 in bill \n",
    "mbill = mat(bill)\n",
    "mtip = mat(tip)\n",
    "m = shape(mbill)[1]\n",
    "one = mat(ones(m))\n",
    "X= hstack((one.T,mbill.T))\n",
    "\n",
    "#set k here\n",
    "ypred = localWeightRegression(X,mtip,0.2) \n",
    "SortIndex = X[:,1].argsort(0)\n",
    "xsort = X[SortIndex][:,0]\n",
    "\n",
    "fig = plt.figure()\n",
    "ax = fig.add_subplot(1,1,1)\n",
    "ax.scatter(bill,tip, color='green') \n",
    "ax.plot(xsort[:,1],ypred[SortIndex], color = 'red', linewidth=5) \n",
    "plt.xlabel('Total bill')\n",
    "plt.ylabel('Tip')\n",
    "plt.show();"
   ]
  },
  {
   "cell_type": "code",
   "execution_count": null,
   "metadata": {},
   "outputs": [],
   "source": []
  },
  {
   "cell_type": "code",
   "execution_count": null,
   "metadata": {},
   "outputs": [],
   "source": []
  }
 ],
 "metadata": {
  "kernelspec": {
   "display_name": "Python 3",
   "language": "python",
   "name": "python3"
  },
  "language_info": {
   "codemirror_mode": {
    "name": "ipython",
    "version": 3
   },
   "file_extension": ".py",
   "mimetype": "text/x-python",
   "name": "python",
   "nbconvert_exporter": "python",
   "pygments_lexer": "ipython3",
   "version": "3.7.8"
  }
 },
 "nbformat": 4,
 "nbformat_minor": 4
}
