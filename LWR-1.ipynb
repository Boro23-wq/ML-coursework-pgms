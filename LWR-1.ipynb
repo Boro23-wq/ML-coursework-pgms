{
 "cells": [
  {
   "cell_type": "code",
   "execution_count": null,
   "metadata": {},
   "outputs": [],
   "source": [
    "import numpy as np\n",
    "from bokeh.plotting import figure, show, output_notebook \n",
    "from bokeh.layouts import gridplot\n",
    "from bokeh.io import push_notebook\n",
    "\n",
    "def local_regression(x0, X, Y, tau):\n",
    "    x0 = np.r_[1, x0] \n",
    "    X = np.c_[np.ones(len(X)), X]\n",
    "    \n",
    "    xw = X.T * radial_kernel(x0, X, tau) # XTranspose * W\n",
    "    \n",
    "    beta = np.linalg.pinv(xw @ X) @ xw @ Y # @ Matrix Multiplication or Dot Product\n",
    "    \n",
    "    return x0 @ beta # @ Matrix Multiplication or Dot Product for prediction\n",
    "\n",
    "def radial_kernel(x0, X, tau):\n",
    "    return np.exp(np.sum((X - x0) ** 2, axis=1) / (-2 * tau * tau))\n",
    "\n",
    "# Weight or Radial Kernal Bias Function\n",
    "n = 1000\n",
    "# generate dataset\n",
    "X = np.linspace(-3, 3, num=n)\n",
    "print(\"The Data Set ( 10 Samples) X :\\n\",X[1:10])\n",
    "Y = np.log(np.abs(X ** 2 - 1) + .5)\n",
    "print(\"The Fitting Curve Data Set (10 Samples) Y :\\n\",Y[1:10]) \n",
    "\n",
    "# jitter X\n",
    "X += np.random.normal(scale=.1, size=n) \n",
    "print(\"Normalised (10 Samples) X :\\n\",X[1:10])\n",
    "\n",
    "domain = np.linspace(-3, 3, num=300)\n",
    "print(\" Xo Domain Space(10 Samples) :\\n\",domain[1:10])\n",
    "\n",
    "def plot_lwr(tau):\n",
    "    prediction = [local_regression(x0, X, Y, tau) for x0 in domain] \n",
    "    plot = figure(plot_width=400, plot_height=400) \n",
    "    plot.title.text='tau=%g' % tau\n",
    "    plot.scatter(X, Y, alpha=.3)\n",
    "    plot.line(domain, prediction, line_width=2, color='red')\n",
    "    return plot\n",
    "\n",
    "# Plotting the curves with different tau \n",
    "show(gridplot([\n",
    "[plot_lwr(10.), plot_lwr(1.)],\n",
    "[plot_lwr(0.1), plot_lwr(0.01)] ]))"
   ]
  }
 ],
 "metadata": {
  "kernelspec": {
   "display_name": "Python 3",
   "language": "python",
   "name": "python3"
  },
  "language_info": {
   "codemirror_mode": {
    "name": "ipython",
    "version": 3
   },
   "file_extension": ".py",
   "mimetype": "text/x-python",
   "name": "python",
   "nbconvert_exporter": "python",
   "pygments_lexer": "ipython3",
   "version": "3.7.8"
  }
 },
 "nbformat": 4,
 "nbformat_minor": 4
}
